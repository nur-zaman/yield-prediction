{
 "cells": [
  {
   "cell_type": "code",
   "execution_count": 2,
   "metadata": {},
   "outputs": [],
   "source": [
    "import pandas as pd\n",
    "import numpy as np\n",
    "\n"
   ]
  },
  {
   "cell_type": "code",
   "execution_count": 3,
   "metadata": {},
   "outputs": [
    {
     "name": "stdout",
     "output_type": "stream",
     "text": [
      "(25345, 395)\n"
     ]
    },
    {
     "data": {
      "text/html": [
       "<div>\n",
       "<style scoped>\n",
       "    .dataframe tbody tr th:only-of-type {\n",
       "        vertical-align: middle;\n",
       "    }\n",
       "\n",
       "    .dataframe tbody tr th {\n",
       "        vertical-align: top;\n",
       "    }\n",
       "\n",
       "    .dataframe thead th {\n",
       "        text-align: right;\n",
       "    }\n",
       "</style>\n",
       "<table border=\"1\" class=\"dataframe\">\n",
       "  <thead>\n",
       "    <tr style=\"text-align: right;\">\n",
       "      <th></th>\n",
       "      <th>loc_ID</th>\n",
       "      <th>year</th>\n",
       "      <th>yield</th>\n",
       "      <th>W_1_1</th>\n",
       "      <th>W_1_2</th>\n",
       "      <th>W_1_3</th>\n",
       "      <th>W_1_4</th>\n",
       "      <th>W_1_5</th>\n",
       "      <th>W_1_6</th>\n",
       "      <th>W_1_7</th>\n",
       "      <th>...</th>\n",
       "      <th>P_5</th>\n",
       "      <th>P_6</th>\n",
       "      <th>P_7</th>\n",
       "      <th>P_8</th>\n",
       "      <th>P_9</th>\n",
       "      <th>P_10</th>\n",
       "      <th>P_11</th>\n",
       "      <th>P_12</th>\n",
       "      <th>P_13</th>\n",
       "      <th>P_14</th>\n",
       "    </tr>\n",
       "  </thead>\n",
       "  <tbody>\n",
       "    <tr>\n",
       "      <th>9290</th>\n",
       "      <td>253</td>\n",
       "      <td>1984</td>\n",
       "      <td>23.2</td>\n",
       "      <td>1.587302</td>\n",
       "      <td>0.285714</td>\n",
       "      <td>0.000000</td>\n",
       "      <td>0.142857</td>\n",
       "      <td>0.285714</td>\n",
       "      <td>0.142857</td>\n",
       "      <td>1.634921</td>\n",
       "      <td>...</td>\n",
       "      <td>9.0</td>\n",
       "      <td>29.0</td>\n",
       "      <td>29.0</td>\n",
       "      <td>17.0</td>\n",
       "      <td>2.0</td>\n",
       "      <td>4.0</td>\n",
       "      <td>5.0</td>\n",
       "      <td>1.0</td>\n",
       "      <td>0.0</td>\n",
       "      <td>0.0</td>\n",
       "    </tr>\n",
       "    <tr>\n",
       "      <th>9338</th>\n",
       "      <td>254</td>\n",
       "      <td>1993</td>\n",
       "      <td>38.2</td>\n",
       "      <td>1.460317</td>\n",
       "      <td>2.730159</td>\n",
       "      <td>1.047619</td>\n",
       "      <td>0.000000</td>\n",
       "      <td>0.000000</td>\n",
       "      <td>0.650794</td>\n",
       "      <td>1.476190</td>\n",
       "      <td>...</td>\n",
       "      <td>10.0</td>\n",
       "      <td>19.0</td>\n",
       "      <td>11.0</td>\n",
       "      <td>15.0</td>\n",
       "      <td>20.0</td>\n",
       "      <td>8.0</td>\n",
       "      <td>4.0</td>\n",
       "      <td>1.0</td>\n",
       "      <td>0.0</td>\n",
       "      <td>0.0</td>\n",
       "    </tr>\n",
       "    <tr>\n",
       "      <th>8558</th>\n",
       "      <td>234</td>\n",
       "      <td>1991</td>\n",
       "      <td>39.2</td>\n",
       "      <td>1.793651</td>\n",
       "      <td>0.841270</td>\n",
       "      <td>0.000000</td>\n",
       "      <td>0.000000</td>\n",
       "      <td>0.000000</td>\n",
       "      <td>0.111111</td>\n",
       "      <td>0.126984</td>\n",
       "      <td>...</td>\n",
       "      <td>10.0</td>\n",
       "      <td>14.0</td>\n",
       "      <td>22.0</td>\n",
       "      <td>25.0</td>\n",
       "      <td>15.0</td>\n",
       "      <td>9.0</td>\n",
       "      <td>1.0</td>\n",
       "      <td>0.0</td>\n",
       "      <td>0.0</td>\n",
       "      <td>0.0</td>\n",
       "    </tr>\n",
       "    <tr>\n",
       "      <th>17760</th>\n",
       "      <td>676</td>\n",
       "      <td>1984</td>\n",
       "      <td>20.1</td>\n",
       "      <td>0.000000</td>\n",
       "      <td>0.642857</td>\n",
       "      <td>0.755102</td>\n",
       "      <td>1.724490</td>\n",
       "      <td>0.000000</td>\n",
       "      <td>2.877551</td>\n",
       "      <td>3.397959</td>\n",
       "      <td>...</td>\n",
       "      <td>8.0</td>\n",
       "      <td>12.0</td>\n",
       "      <td>6.0</td>\n",
       "      <td>33.0</td>\n",
       "      <td>3.0</td>\n",
       "      <td>9.0</td>\n",
       "      <td>12.0</td>\n",
       "      <td>6.0</td>\n",
       "      <td>0.0</td>\n",
       "      <td>0.0</td>\n",
       "    </tr>\n",
       "    <tr>\n",
       "      <th>21292</th>\n",
       "      <td>802</td>\n",
       "      <td>2006</td>\n",
       "      <td>56.8</td>\n",
       "      <td>0.063492</td>\n",
       "      <td>0.015873</td>\n",
       "      <td>0.000000</td>\n",
       "      <td>0.714286</td>\n",
       "      <td>0.396825</td>\n",
       "      <td>0.000000</td>\n",
       "      <td>0.317460</td>\n",
       "      <td>...</td>\n",
       "      <td>40.0</td>\n",
       "      <td>21.0</td>\n",
       "      <td>5.0</td>\n",
       "      <td>2.0</td>\n",
       "      <td>0.0</td>\n",
       "      <td>0.0</td>\n",
       "      <td>0.0</td>\n",
       "      <td>0.0</td>\n",
       "      <td>0.0</td>\n",
       "      <td>0.0</td>\n",
       "    </tr>\n",
       "  </tbody>\n",
       "</table>\n",
       "<p>5 rows × 395 columns</p>\n",
       "</div>"
      ],
      "text/plain": [
       "       loc_ID  year  yield     W_1_1     W_1_2     W_1_3     W_1_4     W_1_5  \\\n",
       "9290      253  1984   23.2  1.587302  0.285714  0.000000  0.142857  0.285714   \n",
       "9338      254  1993   38.2  1.460317  2.730159  1.047619  0.000000  0.000000   \n",
       "8558      234  1991   39.2  1.793651  0.841270  0.000000  0.000000  0.000000   \n",
       "17760     676  1984   20.1  0.000000  0.642857  0.755102  1.724490  0.000000   \n",
       "21292     802  2006   56.8  0.063492  0.015873  0.000000  0.714286  0.396825   \n",
       "\n",
       "          W_1_6     W_1_7  ...   P_5   P_6   P_7   P_8   P_9  P_10  P_11  \\\n",
       "9290   0.142857  1.634921  ...   9.0  29.0  29.0  17.0   2.0   4.0   5.0   \n",
       "9338   0.650794  1.476190  ...  10.0  19.0  11.0  15.0  20.0   8.0   4.0   \n",
       "8558   0.111111  0.126984  ...  10.0  14.0  22.0  25.0  15.0   9.0   1.0   \n",
       "17760  2.877551  3.397959  ...   8.0  12.0   6.0  33.0   3.0   9.0  12.0   \n",
       "21292  0.000000  0.317460  ...  40.0  21.0   5.0   2.0   0.0   0.0   0.0   \n",
       "\n",
       "       P_12  P_13  P_14  \n",
       "9290    1.0   0.0   0.0  \n",
       "9338    1.0   0.0   0.0  \n",
       "8558    0.0   0.0   0.0  \n",
       "17760   6.0   0.0   0.0  \n",
       "21292   0.0   0.0   0.0  \n",
       "\n",
       "[5 rows x 395 columns]"
      ]
     },
     "execution_count": 3,
     "metadata": {},
     "output_type": "execute_result"
    }
   ],
   "source": [
    "data = pd.read_csv(r'..\\data\\crop_yield_data.csv')\n",
    "print(data.shape)\n",
    "data.sample(5)"
   ]
  },
  {
   "cell_type": "code",
   "execution_count": 4,
   "metadata": {},
   "outputs": [
    {
     "data": {
      "text/plain": [
       "Index(['loc_ID', 'year', 'yield', 'W_1_1', 'W_1_2', 'W_1_3', 'W_1_4', 'W_1_5',\n",
       "       'W_1_6', 'W_1_7',\n",
       "       ...\n",
       "       'P_5', 'P_6', 'P_7', 'P_8', 'P_9', 'P_10', 'P_11', 'P_12', 'P_13',\n",
       "       'P_14'],\n",
       "      dtype='object', length=395)"
      ]
     },
     "execution_count": 4,
     "metadata": {},
     "output_type": "execute_result"
    }
   ],
   "source": [
    "data.columns"
   ]
  },
  {
   "cell_type": "code",
   "execution_count": 21,
   "metadata": {},
   "outputs": [
    {
     "name": "stdout",
     "output_type": "stream",
     "text": [
      "0\n"
     ]
    }
   ],
   "source": [
    "\n",
    "print(data.isnull().sum().sum())"
   ]
  },
  {
   "cell_type": "code",
   "execution_count": 31,
   "metadata": {},
   "outputs": [
    {
     "data": {
      "text/plain": [
       "array([1980, 1981, 1982, 1983, 1984, 1985, 1986, 1987, 1988, 1989, 1990,\n",
       "       1991, 1992, 1993, 1994, 1995, 1996, 1997, 1998, 1999, 2000, 2001,\n",
       "       2002, 2003, 2004, 2005, 2006, 2007, 2008, 2009, 2010, 2011, 2012,\n",
       "       2013, 2014, 2015, 2016, 2017, 2018], dtype=int64)"
      ]
     },
     "execution_count": 31,
     "metadata": {},
     "output_type": "execute_result"
    }
   ],
   "source": [
    "data['year'].unique()"
   ]
  },
  {
   "cell_type": "code",
   "execution_count": 32,
   "metadata": {},
   "outputs": [
    {
     "data": {
      "text/plain": [
       "2000    703\n",
       "1988    698\n",
       "1989    692\n",
       "2002    692\n",
       "2001    691\n",
       "1984    690\n",
       "1998    688\n",
       "1999    687\n",
       "1986    687\n",
       "2004    686\n",
       "1983    685\n",
       "1997    685\n",
       "1985    684\n",
       "1990    683\n",
       "1992    682\n",
       "1981    681\n",
       "2003    680\n",
       "1987    680\n",
       "1991    678\n",
       "2005    677\n",
       "1993    674\n",
       "1982    673\n",
       "1994    668\n",
       "1995    665\n",
       "2006    665\n",
       "1996    663\n",
       "2007    663\n",
       "1980    662\n",
       "2010    651\n",
       "2011    614\n",
       "2009    612\n",
       "2012    609\n",
       "2008    593\n",
       "2014    560\n",
       "2017    560\n",
       "2016    550\n",
       "2013    545\n",
       "2015    517\n",
       "2018    472\n",
       "Name: year, dtype: int64"
      ]
     },
     "execution_count": 32,
     "metadata": {},
     "output_type": "execute_result"
    }
   ],
   "source": [
    "data['year'].value_counts()"
   ]
  },
  {
   "cell_type": "code",
   "execution_count": 30,
   "metadata": {},
   "outputs": [
    {
     "data": {
      "text/plain": [
       "775    9\n",
       "576    9\n",
       "866    8\n",
       "704    8\n",
       "875    8\n",
       "      ..\n",
       "840    1\n",
       "748    1\n",
       "718    1\n",
       "750    1\n",
       "998    1\n",
       "Name: loc_ID, Length: 61, dtype: int64"
      ]
     },
     "metadata": {},
     "output_type": "display_data"
    }
   ],
   "source": [
    "value_counts = data['loc_ID'].value_counts()\n",
    "display(value_counts[value_counts <10] )"
   ]
  }
 ],
 "metadata": {
  "kernelspec": {
   "display_name": "Python 3",
   "language": "python",
   "name": "python3"
  },
  "language_info": {
   "codemirror_mode": {
    "name": "ipython",
    "version": 3
   },
   "file_extension": ".py",
   "mimetype": "text/x-python",
   "name": "python",
   "nbconvert_exporter": "python",
   "pygments_lexer": "ipython3",
   "version": "3.10.9"
  },
  "orig_nbformat": 4
 },
 "nbformat": 4,
 "nbformat_minor": 2
}
